{
 "cells": [
  {
   "cell_type": "code",
   "execution_count": 6,
   "metadata": {},
   "outputs": [
    {
     "name": "stdout",
     "output_type": "stream",
     "text": [
      "[1, 2, 3, 4, 5, 6, 7, 8, 9, 10]\n"
     ]
    }
   ],
   "source": [
    "listaNumeros = []\n",
    "\n",
    "for element in range(1,11):\n",
    "    listaNumeros.append(element)\n",
    "\n",
    "print(listaNumeros)\n",
    "    \n",
    "        "
   ]
  },
  {
   "cell_type": "code",
   "execution_count": 10,
   "metadata": {},
   "outputs": [
    {
     "name": "stdout",
     "output_type": "stream",
     "text": [
      "Tv\n",
      "Geladeira\n",
      "Tela\n",
      "Cama\n",
      "Feajsddj\n"
     ]
    }
   ],
   "source": [
    "listaObjetos = [\"Tv\",\"Geladeira\",\"Tela\",\"Cama\",\"Feajsddj\"]\n",
    "for element in listaObjetos:\n",
    "    print(element)"
   ]
  },
  {
   "cell_type": "code",
   "execution_count": 9,
   "metadata": {},
   "outputs": [
    {
     "name": "stdout",
     "output_type": "stream",
     "text": [
      "Alexandre Viado\n"
     ]
    }
   ],
   "source": [
    "stringOne = \"Alexandre\"\n",
    "StringTwo = \"Viado\"\n",
    "StringTree = stringOne+ \" \" + StringTwo\n",
    "print(StringTree)"
   ]
  },
  {
   "cell_type": "code",
   "execution_count": 21,
   "metadata": {},
   "outputs": [
    {
     "name": "stdout",
     "output_type": "stream",
     "text": [
      "temos 3 números 4\n"
     ]
    }
   ],
   "source": [
    "tupleOne = (1,2,2,3,4,4,4,5)\n",
    "x = str(tupleOne.count(4))\n",
    "print(\"temos \" + x +\" números 4\" )"
   ]
  },
  {
   "cell_type": "code",
   "execution_count": 27,
   "metadata": {},
   "outputs": [
    {
     "name": "stdout",
     "output_type": "stream",
     "text": [
      "{'Alexandre': '6969696969', 'Júlio': '997553771', 'Thiago': '9972424245'}\n",
      "6969696969\n",
      "997553771\n",
      "9972424245\n",
      "-----------------------------------------------\n",
      "{'Alexandre': '6969696969', 'Júlio': '997553771', 'Thiago': '9972424245', 'Paulo': [997, 555], 'Celso': [337, 511]}\n"
     ]
    }
   ],
   "source": [
    "listaTefonica = {\n",
    "    \"Alexandre\" : \"6969696969\" ,\n",
    "    \"Júlio\" : \"997553771\"   \n",
    "}\n",
    "listaTefonica.update({\"Thiago\":\"9972424245\"})\n",
    "print(listaTefonica)\n",
    "for element in listaTefonica:\n",
    "    print(listaTefonica[element])\n",
    "    \n",
    "print(\"-----------------------------------------------\")\n",
    "lista1 = [997,555]\n",
    "lista2 = [337,511]\n",
    "listaTefonica.update({\"Paulo\":lista1})\n",
    "listaTefonica.update({\"Celso\":lista2})\n",
    "print(listaTefonica)"
   ]
  },
  {
   "cell_type": "code",
   "execution_count": 28,
   "metadata": {},
   "outputs": [
    {
     "name": "stdout",
     "output_type": "stream",
     "text": [
      "['Júlio', ('elemento1', 'elemento2'), {'Thiago': 'Barbudo', 'Alexandre': 'Cara de neném'}, 2.0]\n"
     ]
    }
   ],
   "source": [
    "listaTranformer = [\"Júlio\", (\"elemento1\",\"elemento2\"),{\"Thiago\" : \"Barbudo\", \"Alexandre\": \"Cara de neném\"},2.0]\n",
    "print(listaTranformer)"
   ]
  },
  {
   "cell_type": "code",
   "execution_count": 29,
   "metadata": {},
   "outputs": [
    {
     "data": {
      "text/plain": [
       "'ientista de Dados '"
      ]
     },
     "execution_count": 29,
     "metadata": {},
     "output_type": "execute_result"
    }
   ],
   "source": [
    "frase = 'Cientista de Dados é o profissional mais sexy do século XXI'\n",
    "frase[1:19]"
   ]
  }
 ],
 "metadata": {
  "kernelspec": {
   "display_name": "Python 3",
   "language": "python",
   "name": "python3"
  },
  "language_info": {
   "codemirror_mode": {
    "name": "ipython",
    "version": 3
   },
   "file_extension": ".py",
   "mimetype": "text/x-python",
   "name": "python",
   "nbconvert_exporter": "python",
   "pygments_lexer": "ipython3",
   "version": "3.10.5 (tags/v3.10.5:f377153, Jun  6 2022, 16:14:13) [MSC v.1929 64 bit (AMD64)]"
  },
  "orig_nbformat": 4,
  "vscode": {
   "interpreter": {
    "hash": "d1ebc1ac3744214b3480f88e54c7729faa593bf41bfbd9a2b43a7c722df7a4a0"
   }
  }
 },
 "nbformat": 4,
 "nbformat_minor": 2
}
